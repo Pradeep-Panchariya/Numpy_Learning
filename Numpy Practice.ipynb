{
 "cells": [
  {
   "cell_type": "markdown",
   "id": "ca7451e8",
   "metadata": {},
   "source": [
    "### Numpy stand for Numerical Python. It is very fast and efficient compare to normal python list\n",
    "### All the element in the numpy array should be Homogeneous.\n",
    "### It is mostly used for Integer/Float data type, you can also use String data type\n",
    "### Let's see practical example now."
   ]
  },
  {
   "cell_type": "code",
   "execution_count": 3,
   "id": "fe9ab33d",
   "metadata": {},
   "outputs": [],
   "source": [
    "import numpy as np # Importing numpy and giving the alias as np"
   ]
  },
  {
   "cell_type": "code",
   "execution_count": 3,
   "id": "15c4c200",
   "metadata": {},
   "outputs": [],
   "source": [
    "X = np.array([[1,2,4],[4,5,6],[5,4,3]]) # Providing the element in the array "
   ]
  },
  {
   "cell_type": "code",
   "execution_count": 4,
   "id": "c0fc12ec",
   "metadata": {},
   "outputs": [
    {
     "name": "stdout",
     "output_type": "stream",
     "text": [
      "[[1 2 4]\n",
      " [4 5 6]\n",
      " [5 4 3]]\n",
      "(3, 3)\n",
      "int32\n",
      "2\n",
      "9\n",
      "<class 'numpy.ndarray'>\n"
     ]
    }
   ],
   "source": [
    "print(X)\n",
    "print(X.shape) # It will tell us the how many rows and column have like ( row, column)\n",
    "print(X.dtype) # refer to data type - Int, string, float, bool \n",
    "print(X.ndim) # number of dimension like 1d, 2d, 3d.......nd\n",
    "print(X.size) # total number of element in the array same as python len method\n",
    "print(type(X)) # what type of object is it like numpy.ndarray or list etc\n"
   ]
  },
  {
   "cell_type": "code",
   "execution_count": 5,
   "id": "6ce44c48",
   "metadata": {},
   "outputs": [
    {
     "name": "stdout",
     "output_type": "stream",
     "text": [
      "[1 2 4]\n"
     ]
    }
   ],
   "source": [
    "lst = [1,2,4]\n",
    "Y = np.array(lst)\n",
    "print(Y)"
   ]
  },
  {
   "cell_type": "code",
   "execution_count": 6,
   "id": "0a2d926b",
   "metadata": {},
   "outputs": [
    {
     "name": "stdout",
     "output_type": "stream",
     "text": [
      "['1' '2' '4' 'Hello' '3.4']\n",
      "<U32\n"
     ]
    }
   ],
   "source": [
    "Z = np.array([1,2,4,'Hello',3.4]) # Here I am providing int,str and float element but when I see the data type\n",
    "print(Z)\n",
    "print(Z.dtype)# All changed to string because of one string element"
   ]
  },
  {
   "cell_type": "code",
   "execution_count": 7,
   "id": "935dd190",
   "metadata": {},
   "outputs": [
    {
     "name": "stdout",
     "output_type": "stream",
     "text": [
      "[1.  2.  4.  3.4]\n",
      "float64\n"
     ]
    }
   ],
   "source": [
    "Z = np.array([1,2,4,3.4]) # Here I am providing int,str and float element but when I see the data type\n",
    "print(Z)\n",
    "print(Z.dtype)# All changed to float because of one float element"
   ]
  },
  {
   "cell_type": "code",
   "execution_count": 8,
   "id": "a11dc194",
   "metadata": {},
   "outputs": [],
   "source": [
    "## So priority is : String > Float > Integer"
   ]
  },
  {
   "cell_type": "code",
   "execution_count": 9,
   "id": "071b63a7",
   "metadata": {},
   "outputs": [
    {
     "name": "stdout",
     "output_type": "stream",
     "text": [
      "['1' '2' '4' 'Hello' '3.4' 'False']\n",
      "<U32\n"
     ]
    }
   ],
   "source": [
    "Z = np.array([1,2,4,'Hello',3.4,False]) # Here I am providing int,str and float element but when I see the data type\n",
    "print(Z)\n",
    "print(Z.dtype)# All changed to string because of one string element"
   ]
  },
  {
   "cell_type": "code",
   "execution_count": 10,
   "id": "86679d03",
   "metadata": {},
   "outputs": [
    {
     "name": "stdout",
     "output_type": "stream",
     "text": [
      "[list([1, 2, 4]) list([5, 4, 3, 5])]\n"
     ]
    },
    {
     "name": "stderr",
     "output_type": "stream",
     "text": [
      "<ipython-input-10-8e74ac0d56ac>:1: VisibleDeprecationWarning: Creating an ndarray from ragged nested sequences (which is a list-or-tuple of lists-or-tuples-or ndarrays with different lengths or shapes) is deprecated. If you meant to do this, you must specify 'dtype=object' when creating the ndarray.\n",
      "  A = np.array([[1,2,4],[5,4,3,5]])\n"
     ]
    }
   ],
   "source": [
    "A = np.array([[1,2,4],[5,4,3,5]])\n",
    "# It will raise an error because all the element should be same size either 3 or 4 in the example because it is\n",
    "#unambiguous while determining the A.shape(row, col) here row is 3 but col is (3,4) that why it will give an error\n",
    "print(A)"
   ]
  },
  {
   "cell_type": "markdown",
   "id": "df1fbc76",
   "metadata": {},
   "source": [
    "## using built in function\n",
    "### zeros,ones,eye,diag,full,arange,linspace,reshpae,random"
   ]
  },
  {
   "cell_type": "code",
   "execution_count": 17,
   "id": "2fdf3c32",
   "metadata": {},
   "outputs": [
    {
     "name": "stdout",
     "output_type": "stream",
     "text": [
      "[[0. 0. 0. 0.]\n",
      " [0. 0. 0. 0.]\n",
      " [0. 0. 0. 0.]\n",
      " [0. 0. 0. 0.]\n",
      " [0. 0. 0. 0.]\n",
      " [0. 0. 0. 0.]]\n"
     ]
    }
   ],
   "source": [
    "X = np.zeros((6,4)) # it is used for creating a empty or zeror array ((x,y,z.....n)) number of dimension\n",
    "print(X)"
   ]
  },
  {
   "cell_type": "code",
   "execution_count": 19,
   "id": "164c4d4b",
   "metadata": {},
   "outputs": [
    {
     "name": "stdout",
     "output_type": "stream",
     "text": [
      "[[1. 1. 1.]\n",
      " [1. 1. 1.]\n",
      " [1. 1. 1.]\n",
      " [1. 1. 1.]]\n"
     ]
    }
   ],
   "source": [
    "X = np.ones((4,3)) # it is used for creating a array with all 1 ((x,y,z.....n)) number of dimension\n",
    "print(X)"
   ]
  },
  {
   "cell_type": "code",
   "execution_count": 20,
   "id": "b3741dba",
   "metadata": {},
   "outputs": [
    {
     "name": "stdout",
     "output_type": "stream",
     "text": [
      "[[6 6 6]\n",
      " [6 6 6]\n",
      " [6 6 6]\n",
      " [6 6 6]]\n"
     ]
    }
   ],
   "source": [
    "X = np.full((4,3),6)# used for creating constant value of array\n",
    "print(X)"
   ]
  },
  {
   "cell_type": "code",
   "execution_count": 23,
   "id": "712c3cd4",
   "metadata": {},
   "outputs": [
    {
     "name": "stdout",
     "output_type": "stream",
     "text": [
      "[[1. 0. 0. 0. 0. 0.]\n",
      " [0. 1. 0. 0. 0. 0.]\n",
      " [0. 0. 1. 0. 0. 0.]\n",
      " [0. 0. 0. 1. 0. 0.]\n",
      " [0. 0. 0. 0. 1. 0.]\n",
      " [0. 0. 0. 0. 0. 1.]]\n"
     ]
    }
   ],
   "source": [
    "X = np.eye(6)# set the one for the diagonal\n",
    "print(X)"
   ]
  },
  {
   "cell_type": "code",
   "execution_count": 26,
   "id": "c85f3004",
   "metadata": {},
   "outputs": [
    {
     "name": "stdout",
     "output_type": "stream",
     "text": [
      "[5 6 7 8 9]\n"
     ]
    }
   ],
   "source": [
    "X = np.arange(5,10)# it like a range function in list ( start, end, step) - ( included start, excluded end)\n",
    "print(X)"
   ]
  },
  {
   "cell_type": "code",
   "execution_count": 27,
   "id": "af6353ba",
   "metadata": {},
   "outputs": [
    {
     "name": "stdout",
     "output_type": "stream",
     "text": [
      "[3.         3.05263158 3.10526316 3.15789474 3.21052632 3.26315789\n",
      " 3.31578947 3.36842105 3.42105263 3.47368421 3.52631579 3.57894737\n",
      " 3.63157895 3.68421053 3.73684211 3.78947368 3.84210526 3.89473684\n",
      " 3.94736842 4.        ]\n"
     ]
    }
   ],
   "source": [
    "X = np.linspace(3,4,20)# it is evenly distriubted the value in step ( start, end, step) ( included start and end)\n",
    "print(X)"
   ]
  },
  {
   "cell_type": "code",
   "execution_count": 28,
   "id": "f82d17c7",
   "metadata": {},
   "outputs": [
    {
     "name": "stdout",
     "output_type": "stream",
     "text": [
      "[3.   3.05 3.1  3.15 3.2  3.25 3.3  3.35 3.4  3.45 3.5  3.55 3.6  3.65\n",
      " 3.7  3.75 3.8  3.85 3.9  3.95]\n"
     ]
    }
   ],
   "source": [
    "X = np.linspace(3,4,20,endpoint=False)# same as above but included start and excluded end\n",
    "print(X)"
   ]
  },
  {
   "cell_type": "code",
   "execution_count": 29,
   "id": "f3eba6fe",
   "metadata": {},
   "outputs": [
    {
     "name": "stdout",
     "output_type": "stream",
     "text": [
      "[[3.   3.05 3.1  3.15]\n",
      " [3.2  3.25 3.3  3.35]\n",
      " [3.4  3.45 3.5  3.55]\n",
      " [3.6  3.65 3.7  3.75]\n",
      " [3.8  3.85 3.9  3.95]]\n"
     ]
    }
   ],
   "source": [
    "X = np.reshape(X,(5,4))# used for giving the new shape of array like giving the number of dimensional\n",
    "# but if array is by deafault one dimensional and you can make it multidimensional using reshpae method\n",
    "# point to be noted : if array has 20 element then multiplication of reshape should be 20 like (4,5)=20 , (10,2)=20\n",
    "#otherwise it will raise an error if you specify like (3,10)=30 which is false\n",
    "print(X)"
   ]
  },
  {
   "cell_type": "code",
   "execution_count": 34,
   "id": "22a376e8",
   "metadata": {},
   "outputs": [
    {
     "ename": "ValueError",
     "evalue": "cannot reshape array of size 20 into shape (5,3)",
     "output_type": "error",
     "traceback": [
      "\u001b[1;31m---------------------------------------------------------------------------\u001b[0m",
      "\u001b[1;31mValueError\u001b[0m                                Traceback (most recent call last)",
      "\u001b[1;32m<ipython-input-34-f74ebcf16a7b>\u001b[0m in \u001b[0;36m<module>\u001b[1;34m\u001b[0m\n\u001b[1;32m----> 1\u001b[1;33m \u001b[0mX\u001b[0m \u001b[1;33m=\u001b[0m \u001b[0mnp\u001b[0m\u001b[1;33m.\u001b[0m\u001b[0mreshape\u001b[0m\u001b[1;33m(\u001b[0m\u001b[0mX\u001b[0m\u001b[1;33m,\u001b[0m\u001b[1;33m(\u001b[0m\u001b[1;36m5\u001b[0m\u001b[1;33m,\u001b[0m\u001b[1;36m3\u001b[0m\u001b[1;33m)\u001b[0m\u001b[1;33m)\u001b[0m\u001b[1;33m\u001b[0m\u001b[1;33m\u001b[0m\u001b[0m\n\u001b[0m",
      "\u001b[1;32m<__array_function__ internals>\u001b[0m in \u001b[0;36mreshape\u001b[1;34m(*args, **kwargs)\u001b[0m\n",
      "\u001b[1;32m~\\anaconda3\\lib\\site-packages\\numpy\\core\\fromnumeric.py\u001b[0m in \u001b[0;36mreshape\u001b[1;34m(a, newshape, order)\u001b[0m\n\u001b[0;32m    297\u001b[0m            [5, 6]])\n\u001b[0;32m    298\u001b[0m     \"\"\"\n\u001b[1;32m--> 299\u001b[1;33m     \u001b[1;32mreturn\u001b[0m \u001b[0m_wrapfunc\u001b[0m\u001b[1;33m(\u001b[0m\u001b[0ma\u001b[0m\u001b[1;33m,\u001b[0m \u001b[1;34m'reshape'\u001b[0m\u001b[1;33m,\u001b[0m \u001b[0mnewshape\u001b[0m\u001b[1;33m,\u001b[0m \u001b[0morder\u001b[0m\u001b[1;33m=\u001b[0m\u001b[0morder\u001b[0m\u001b[1;33m)\u001b[0m\u001b[1;33m\u001b[0m\u001b[1;33m\u001b[0m\u001b[0m\n\u001b[0m\u001b[0;32m    300\u001b[0m \u001b[1;33m\u001b[0m\u001b[0m\n\u001b[0;32m    301\u001b[0m \u001b[1;33m\u001b[0m\u001b[0m\n",
      "\u001b[1;32m~\\anaconda3\\lib\\site-packages\\numpy\\core\\fromnumeric.py\u001b[0m in \u001b[0;36m_wrapfunc\u001b[1;34m(obj, method, *args, **kwds)\u001b[0m\n\u001b[0;32m     56\u001b[0m \u001b[1;33m\u001b[0m\u001b[0m\n\u001b[0;32m     57\u001b[0m     \u001b[1;32mtry\u001b[0m\u001b[1;33m:\u001b[0m\u001b[1;33m\u001b[0m\u001b[1;33m\u001b[0m\u001b[0m\n\u001b[1;32m---> 58\u001b[1;33m         \u001b[1;32mreturn\u001b[0m \u001b[0mbound\u001b[0m\u001b[1;33m(\u001b[0m\u001b[1;33m*\u001b[0m\u001b[0margs\u001b[0m\u001b[1;33m,\u001b[0m \u001b[1;33m**\u001b[0m\u001b[0mkwds\u001b[0m\u001b[1;33m)\u001b[0m\u001b[1;33m\u001b[0m\u001b[1;33m\u001b[0m\u001b[0m\n\u001b[0m\u001b[0;32m     59\u001b[0m     \u001b[1;32mexcept\u001b[0m \u001b[0mTypeError\u001b[0m\u001b[1;33m:\u001b[0m\u001b[1;33m\u001b[0m\u001b[1;33m\u001b[0m\u001b[0m\n\u001b[0;32m     60\u001b[0m         \u001b[1;31m# A TypeError occurs if the object does have such a method in its\u001b[0m\u001b[1;33m\u001b[0m\u001b[1;33m\u001b[0m\u001b[1;33m\u001b[0m\u001b[0m\n",
      "\u001b[1;31mValueError\u001b[0m: cannot reshape array of size 20 into shape (5,3)"
     ]
    }
   ],
   "source": [
    "X = np.reshape(X,(5,3))"
   ]
  },
  {
   "cell_type": "code",
   "execution_count": 35,
   "id": "28be8477",
   "metadata": {},
   "outputs": [
    {
     "name": "stdout",
     "output_type": "stream",
     "text": [
      "[[0 1]\n",
      " [2 3]\n",
      " [4 5]\n",
      " [6 7]\n",
      " [8 9]]\n"
     ]
    }
   ],
   "source": [
    "X = np.arange(10).reshape((5,2))#you can use reshape like this you do not have to pass array\n",
    "\n",
    "print(X)"
   ]
  },
  {
   "cell_type": "code",
   "execution_count": 39,
   "id": "28b3c4a4",
   "metadata": {},
   "outputs": [
    {
     "name": "stdout",
     "output_type": "stream",
     "text": [
      "[[4.  4.2]\n",
      " [4.4 4.6]\n",
      " [4.8 5. ]]\n"
     ]
    }
   ],
   "source": [
    "X = np.linspace(4,5,6).reshape((3,2)) # reshpae(6), reshape((3,2)) both are true\n",
    "print(X)"
   ]
  },
  {
   "cell_type": "code",
   "execution_count": 41,
   "id": "75dd835b",
   "metadata": {},
   "outputs": [
    {
     "name": "stdout",
     "output_type": "stream",
     "text": [
      "[0.54588734 0.75829418 0.11557354 0.52223522 0.64979764 0.84771917\n",
      " 0.00976786 0.3978441  0.88593537 0.17290891]\n"
     ]
    }
   ],
   "source": [
    "X = np.random.random(10)\n",
    "print(X)"
   ]
  },
  {
   "cell_type": "code",
   "execution_count": 49,
   "id": "3dd8483f",
   "metadata": {},
   "outputs": [
    {
     "name": "stdout",
     "output_type": "stream",
     "text": [
      "[[5 9 7 7 5 8 4]\n",
      " [8 8 9 3 6 7 4]\n",
      " [5 7 7 9 6 4 9]]\n"
     ]
    }
   ],
   "source": [
    "X = np.random.randint(3,10,size=(3,7))\n",
    "#NumPy also allows us to create ndarrays with random integers within a particular interval.\n",
    "#The function np.random.randint(start, stop, size = shape) creates an ndarray of the given shape \n",
    "#with random integers in the half-open interval [start, stop).\n",
    "print(X)"
   ]
  },
  {
   "cell_type": "code",
   "execution_count": 53,
   "id": "703bb5eb",
   "metadata": {},
   "outputs": [
    {
     "name": "stdout",
     "output_type": "stream",
     "text": [
      "[[-0.0754874   0.00955045 -0.08491673 ... -0.03087646 -0.05333109\n",
      "  -0.09651706]\n",
      " [-0.13516238  0.13407862 -0.04540702 ...  0.15391053 -0.04417964\n",
      "  -0.16508774]\n",
      " [-0.09197113 -0.17274168 -0.10611965 ... -0.22056281  0.10313987\n",
      "  -0.02563527]\n",
      " ...\n",
      " [-0.06364464 -0.10089427  0.08351702 ... -0.03753913  0.05099814\n",
      "   0.03572922]\n",
      " [-0.00520985 -0.10803878  0.0441431  ... -0.05635035  0.37380042\n",
      "   0.08859737]\n",
      " [ 0.07389125  0.03601875  0.05302981 ... -0.05530995 -0.05440823\n",
      "   0.0398181 ]]\n",
      "7.638838452057584e-05\n",
      "0.10004871345260692\n"
     ]
    }
   ],
   "source": [
    "X = np.random.normal(0,0.1,size=(1000,1000))# np.random.normal(mean, standard deviation, size=shape)\n",
    "print(X)\n",
    "print(X.mean())\n",
    "print(X.std())"
   ]
  },
  {
   "cell_type": "markdown",
   "id": "fb313026",
   "metadata": {},
   "source": [
    "### indexing, adding,deleting, inserting, hstack, vtack"
   ]
  },
  {
   "cell_type": "code",
   "execution_count": 54,
   "id": "b9d2b422",
   "metadata": {},
   "outputs": [
    {
     "name": "stdout",
     "output_type": "stream",
     "text": [
      "4\n"
     ]
    }
   ],
   "source": [
    "x = np.array([1,2,3,4,5])\n",
    "print(x[3])"
   ]
  },
  {
   "cell_type": "code",
   "execution_count": 67,
   "id": "e90080a1",
   "metadata": {},
   "outputs": [
    {
     "name": "stdout",
     "output_type": "stream",
     "text": [
      "6\n",
      "[[ 1  2  4]\n",
      " [ 6 54  6]]\n"
     ]
    }
   ],
   "source": [
    "x = np.array([[1,2,4],[6,54,6]])\n",
    "print(x[1,2])\n",
    "print(x)"
   ]
  },
  {
   "cell_type": "code",
   "execution_count": 64,
   "id": "33e161e5",
   "metadata": {},
   "outputs": [
    {
     "name": "stdout",
     "output_type": "stream",
     "text": [
      "[[ 1  2  4]\n",
      " [ 6 54  6]\n",
      " [ 4  3  2]]\n"
     ]
    }
   ],
   "source": [
    "y = np.append(x,[[4,3,2]],axis=0)#(array,what to add, which axis)\n",
    "print(y)"
   ]
  },
  {
   "cell_type": "code",
   "execution_count": 69,
   "id": "19fa7670",
   "metadata": {},
   "outputs": [
    {
     "name": "stdout",
     "output_type": "stream",
     "text": [
      "[[ 1  2  4  4]\n",
      " [ 6 54  6  3]]\n"
     ]
    }
   ],
   "source": [
    "z = np.append(x,[[4],[3]],axis=1)#(array,what to add, which axis)\n",
    "print(z)"
   ]
  },
  {
   "cell_type": "code",
   "execution_count": 70,
   "id": "8b3b82a2",
   "metadata": {},
   "outputs": [],
   "source": [
    "z[0,3]=44"
   ]
  },
  {
   "cell_type": "code",
   "execution_count": 71,
   "id": "17a2354b",
   "metadata": {},
   "outputs": [
    {
     "data": {
      "text/plain": [
       "array([[ 1,  2,  4, 44],\n",
       "       [ 6, 54,  6,  3]])"
      ]
     },
     "execution_count": 71,
     "metadata": {},
     "output_type": "execute_result"
    }
   ],
   "source": [
    "z"
   ]
  },
  {
   "cell_type": "code",
   "execution_count": 72,
   "id": "2e5e576d",
   "metadata": {},
   "outputs": [],
   "source": [
    "z[0]=5"
   ]
  },
  {
   "cell_type": "code",
   "execution_count": 73,
   "id": "b7a8c9f0",
   "metadata": {},
   "outputs": [
    {
     "data": {
      "text/plain": [
       "array([[ 5,  5,  5,  5],\n",
       "       [ 6, 54,  6,  3]])"
      ]
     },
     "execution_count": 73,
     "metadata": {},
     "output_type": "execute_result"
    }
   ],
   "source": [
    "z"
   ]
  },
  {
   "cell_type": "code",
   "execution_count": 74,
   "id": "d5ac6bed",
   "metadata": {},
   "outputs": [
    {
     "name": "stdout",
     "output_type": "stream",
     "text": [
      "[[1 2 3]\n",
      " [4 5 6]\n",
      " [7 8 9]]\n"
     ]
    }
   ],
   "source": [
    "x = np.arange(1,10).reshape(3,3)\n",
    "print(x)"
   ]
  },
  {
   "cell_type": "code",
   "execution_count": 75,
   "id": "73bae494",
   "metadata": {},
   "outputs": [
    {
     "name": "stdout",
     "output_type": "stream",
     "text": [
      "[[4 5 6]\n",
      " [7 8 9]]\n"
     ]
    }
   ],
   "source": [
    "y = np.delete(x,[0],axis=0)#(ndarray,what to delete, which axis)\n",
    "print(y)"
   ]
  },
  {
   "cell_type": "code",
   "execution_count": 76,
   "id": "51990a36",
   "metadata": {},
   "outputs": [
    {
     "name": "stdout",
     "output_type": "stream",
     "text": [
      "[[1 3]\n",
      " [4 6]\n",
      " [7 9]]\n"
     ]
    }
   ],
   "source": [
    "y = np.delete(x,[1],axis=1)#(ndarray,what to delete, which axis)\n",
    "print(y)"
   ]
  },
  {
   "cell_type": "code",
   "execution_count": 77,
   "id": "44df49ba",
   "metadata": {},
   "outputs": [
    {
     "name": "stdout",
     "output_type": "stream",
     "text": [
      "[[1 2 3]\n",
      " [4 4 4]\n",
      " [4 5 6]\n",
      " [7 8 9]]\n"
     ]
    }
   ],
   "source": [
    "y = np.insert(x,1,[[4,4,4]],axis=0)#(ndarray, where to insert, what to insert, axis row or column)\n",
    "print(y)"
   ]
  },
  {
   "cell_type": "code",
   "execution_count": 79,
   "id": "f04dcff3",
   "metadata": {},
   "outputs": [
    {
     "name": "stdout",
     "output_type": "stream",
     "text": [
      "[[1 2 4 3]\n",
      " [4 5 4 6]\n",
      " [7 8 4 9]]\n"
     ]
    }
   ],
   "source": [
    "y = np.insert(x,2,[[4,4,4]],axis=1)#(ndarray, where to insert, what to insert, axis row or column)\n",
    "print(y)"
   ]
  },
  {
   "cell_type": "code",
   "execution_count": 80,
   "id": "6ca6c0e8",
   "metadata": {},
   "outputs": [
    {
     "name": "stdout",
     "output_type": "stream",
     "text": [
      "[[1 2]\n",
      " [3 4]\n",
      " [5 6]]\n"
     ]
    }
   ],
   "source": [
    "a = np.array([1,2])\n",
    "b = np.array([[3,4],[5,6]])\n",
    "vstack = np.vstack((a,b))\n",
    "print(hstack)"
   ]
  },
  {
   "cell_type": "code",
   "execution_count": 88,
   "id": "c5ecff0e",
   "metadata": {},
   "outputs": [
    {
     "name": "stdout",
     "output_type": "stream",
     "text": [
      "[[3 4 1]\n",
      " [5 6 2]]\n"
     ]
    }
   ],
   "source": [
    "hstack = np.hstack((b,a.reshape(2,1)))\n",
    "print(vstack)"
   ]
  },
  {
   "cell_type": "markdown",
   "id": "722b8915",
   "metadata": {},
   "source": [
    "## Slicing"
   ]
  },
  {
   "cell_type": "code",
   "execution_count": 1,
   "id": "09d98b78",
   "metadata": {},
   "outputs": [],
   "source": [
    "# array[start:end] , included start element and excluded end element\n",
    "# array[start:] , start and till the end of the array\n",
    "# array[:end], it will grab all the element from the begining till the end-1 indices\n"
   ]
  },
  {
   "cell_type": "code",
   "execution_count": 6,
   "id": "6827e760",
   "metadata": {},
   "outputs": [
    {
     "name": "stdout",
     "output_type": "stream",
     "text": [
      "[[ 1  2  3  4]\n",
      " [ 5  6  7  8]\n",
      " [ 9 10 11 12]\n",
      " [13 14 15 16]\n",
      " [17 18 19 20]]\n"
     ]
    }
   ],
   "source": [
    "X = np.arange(1,21).reshape(5,4)\n",
    "print(X)"
   ]
  },
  {
   "cell_type": "code",
   "execution_count": 8,
   "id": "5e2d4c2e",
   "metadata": {},
   "outputs": [
    {
     "name": "stdout",
     "output_type": "stream",
     "text": [
      "[[ 6  7  8]\n",
      " [10 11 12]\n",
      " [14 15 16]]\n"
     ]
    }
   ],
   "source": [
    "z = X[1:4,1:] # start from row 1 to 3, and start from column 1 to till the end of the array column\n",
    "print(z)"
   ]
  },
  {
   "cell_type": "code",
   "execution_count": 12,
   "id": "c1e3c0a0",
   "metadata": {},
   "outputs": [
    {
     "name": "stdout",
     "output_type": "stream",
     "text": [
      "[12 16 20]\n"
     ]
    }
   ],
   "source": [
    "y = X[2:,3]# it will give the all the element starting from row 2 and column 3 but it is giving rank 1 array\n",
    "print(y)"
   ]
  },
  {
   "cell_type": "code",
   "execution_count": 13,
   "id": "61f1f592",
   "metadata": {},
   "outputs": [
    {
     "name": "stdout",
     "output_type": "stream",
     "text": [
      "[[12]\n",
      " [16]\n",
      " [20]]\n"
     ]
    }
   ],
   "source": [
    "y = X[2:,3:]# it will give the all the element starting from row 2 and column 3 , to getting the rank 2 include : or indices\n",
    "print(y)"
   ]
  },
  {
   "cell_type": "code",
   "execution_count": 14,
   "id": "6ee55c3b",
   "metadata": {},
   "outputs": [
    {
     "name": "stdout",
     "output_type": "stream",
     "text": [
      "[[  6   7   8]\n",
      " [ 10  11  12]\n",
      " [ 14  15 666]]\n",
      "[[  1   2   3   4]\n",
      " [  5   6   7   8]\n",
      " [  9  10  11  12]\n",
      " [ 13  14  15 666]\n",
      " [ 17  18  19  20]]\n"
     ]
    }
   ],
   "source": [
    "z[2,2]=666# if you change the any element in this array then it will also reflect to the original array X\n",
    "print(z)\n",
    "print(X)"
   ]
  },
  {
   "cell_type": "code",
   "execution_count": 15,
   "id": "1cbf2f82",
   "metadata": {},
   "outputs": [],
   "source": [
    "#you can see that 666 is also reflect in the original array"
   ]
  },
  {
   "cell_type": "code",
   "execution_count": 18,
   "id": "790f199d",
   "metadata": {},
   "outputs": [
    {
     "name": "stdout",
     "output_type": "stream",
     "text": [
      "[[ 10  11  12]\n",
      " [ 14  15 666]\n",
      " [ 18  19  20]]\n"
     ]
    }
   ],
   "source": [
    "z = X[2:,1:].copy()# using the copy method it will not relfect the original array you can alos use np.copy(array,[slicing])\n",
    "print(z)"
   ]
  },
  {
   "cell_type": "code",
   "execution_count": 19,
   "id": "6dca2a9a",
   "metadata": {},
   "outputs": [
    {
     "name": "stdout",
     "output_type": "stream",
     "text": [
      "[[1111   11   12]\n",
      " [  14   15  666]\n",
      " [  18   19   20]]\n",
      "[[  1   2   3   4]\n",
      " [  5   6   7   8]\n",
      " [  9  10  11  12]\n",
      " [ 13  14  15 666]\n",
      " [ 17  18  19  20]]\n"
     ]
    }
   ],
   "source": [
    "z[0,0]=1111\n",
    "print(z)\n",
    "print(X)"
   ]
  },
  {
   "cell_type": "code",
   "execution_count": 20,
   "id": "5a3a6965",
   "metadata": {},
   "outputs": [
    {
     "name": "stdout",
     "output_type": "stream",
     "text": [
      "[  1   6  11 666]\n"
     ]
    }
   ],
   "source": [
    "A = np.diag(X)# finding the diagonal element\n",
    "print(A)"
   ]
  },
  {
   "cell_type": "code",
   "execution_count": 27,
   "id": "7c815852",
   "metadata": {},
   "outputs": [
    {
     "name": "stdout",
     "output_type": "stream",
     "text": [
      "[ 2  7 12]\n"
     ]
    }
   ],
   "source": [
    "A = np.diag(X,k=1)#k from where you want to start the diagonal element by default k=0\n",
    "print(A)"
   ]
  },
  {
   "cell_type": "code",
   "execution_count": 30,
   "id": "a85534f7",
   "metadata": {},
   "outputs": [
    {
     "name": "stdout",
     "output_type": "stream",
     "text": [
      "[[7 4 8 4 6]\n",
      " [9 4 6 3 3]\n",
      " [6 4 1 4 5]\n",
      " [3 9 4 8 4]]\n",
      "UNIQue\n",
      " [1 3 4 5 6 7 8 9]\n"
     ]
    }
   ],
   "source": [
    "#finding the unique  element in the array\n",
    "arr = np.random.randint(1,10,size=(4,5))\n",
    "print(arr)\n",
    "unique = np.unique(arr)\n",
    "print(\"UNIQue\\n\",unique)"
   ]
  },
  {
   "cell_type": "markdown",
   "id": "19eaf93f",
   "metadata": {},
   "source": [
    "## Boolean indexing, set operation , sorting"
   ]
  },
  {
   "cell_type": "code",
   "execution_count": 31,
   "id": "819060c9",
   "metadata": {},
   "outputs": [
    {
     "name": "stdout",
     "output_type": "stream",
     "text": [
      "[[ 0  1  2  3  4]\n",
      " [ 5  6  7  8  9]\n",
      " [10 11 12 13 14]\n",
      " [15 16 17 18 19]\n",
      " [20 21 22 23 24]]\n"
     ]
    }
   ],
   "source": [
    "X = np.arange(25).reshape(5,5)\n",
    "print(X)"
   ]
  },
  {
   "cell_type": "code",
   "execution_count": 32,
   "id": "e9e909ab",
   "metadata": {},
   "outputs": [
    {
     "data": {
      "text/plain": [
       "array([[False, False, False, False, False],\n",
       "       [False, False, False, False, False],\n",
       "       [False,  True,  True,  True,  True],\n",
       "       [ True,  True,  True,  True,  True],\n",
       "       [ True,  True,  True,  True,  True]])"
      ]
     },
     "execution_count": 32,
     "metadata": {},
     "output_type": "execute_result"
    }
   ],
   "source": [
    "X>10"
   ]
  },
  {
   "cell_type": "code",
   "execution_count": 34,
   "id": "feddc768",
   "metadata": {},
   "outputs": [
    {
     "data": {
      "text/plain": [
       "array([11, 12, 13, 14, 15, 16, 17, 18, 19, 20, 21, 22, 23, 24])"
      ]
     },
     "execution_count": 34,
     "metadata": {},
     "output_type": "execute_result"
    }
   ],
   "source": [
    "X[(X>10)]#returing all the element which is greater than 10\n"
   ]
  },
  {
   "cell_type": "code",
   "execution_count": 37,
   "id": "aa20ec92",
   "metadata": {},
   "outputs": [
    {
     "name": "stdout",
     "output_type": "stream",
     "text": [
      "[11 12 13 14 15 16 17 18]\n"
     ]
    }
   ],
   "source": [
    "greater10_less19 = X[(X>10) & (X<19)]#greater than 10 and less than 19\n",
    "print(greater10_less19eater10_less19)"
   ]
  },
  {
   "cell_type": "code",
   "execution_count": 39,
   "id": "3edacb91",
   "metadata": {},
   "outputs": [
    {
     "name": "stdout",
     "output_type": "stream",
     "text": [
      "[[ 0  1  2  3  4]\n",
      " [ 5 -1 -1  8  9]\n",
      " [10 11 12 13 14]\n",
      " [15 16 17 18 19]\n",
      " [20 21 22 23 24]]\n"
     ]
    }
   ],
   "source": [
    "X[(X>5)&(X<8)]=-1#if this condition met then it will change the value \n",
    "print(X)"
   ]
  },
  {
   "cell_type": "code",
   "execution_count": 40,
   "id": "11733582",
   "metadata": {},
   "outputs": [
    {
     "name": "stdout",
     "output_type": "stream",
     "text": [
      "[[ 1  6 12  3 12]\n",
      " [ 3 10  6  9  3]\n",
      " [ 6  6 12  6  7]\n",
      " [ 3  8  8 13 12]\n",
      " [ 2 11  7  9  5]]\n"
     ]
    }
   ],
   "source": [
    "X = np.random.randint(1,15,size=(5,5))\n",
    "print(X)"
   ]
  },
  {
   "cell_type": "code",
   "execution_count": 41,
   "id": "154d8ecc",
   "metadata": {},
   "outputs": [
    {
     "name": "stdout",
     "output_type": "stream",
     "text": [
      "[[ 1  6  6  3  3]\n",
      " [ 2  6  7  6  5]\n",
      " [ 3  8  8  9  7]\n",
      " [ 3 10 12  9 12]\n",
      " [ 6 11 12 13 12]]\n",
      "[[ 1  6 12  3 12]\n",
      " [ 3 10  6  9  3]\n",
      " [ 6  6 12  6  7]\n",
      " [ 3  8  8 13 12]\n",
      " [ 2 11  7  9  5]]\n"
     ]
    }
   ],
   "source": [
    "#using np.sort method it will not sort in place using the sort method it will sort the element in place\n",
    "print(np.sort(X,axis=0))\n",
    "print(X)"
   ]
  },
  {
   "cell_type": "code",
   "execution_count": 42,
   "id": "5521d800",
   "metadata": {},
   "outputs": [
    {
     "name": "stdout",
     "output_type": "stream",
     "text": [
      "[[ 1  3  6 12 12]\n",
      " [ 3  3  6  9 10]\n",
      " [ 6  6  6  7 12]\n",
      " [ 3  8  8 12 13]\n",
      " [ 2  5  7  9 11]]\n",
      "[[ 1  6 12  3 12]\n",
      " [ 3 10  6  9  3]\n",
      " [ 6  6 12  6  7]\n",
      " [ 3  8  8 13 12]\n",
      " [ 2 11  7  9  5]]\n"
     ]
    }
   ],
   "source": [
    "#using np.sort method it will not sort in place using the sort method it will sort the element in place\n",
    "print(np.sort(X,axis=1))\n",
    "print(X)"
   ]
  },
  {
   "cell_type": "code",
   "execution_count": 43,
   "id": "d13e5ad9",
   "metadata": {},
   "outputs": [
    {
     "name": "stdout",
     "output_type": "stream",
     "text": [
      "[[ 1  6  6  3  3]\n",
      " [ 2  6  7  6  5]\n",
      " [ 3  8  8  9  7]\n",
      " [ 3 10 12  9 12]\n",
      " [ 6 11 12 13 12]]\n"
     ]
    }
   ],
   "source": [
    "X.sort(axis =0)# it sort the value in place\n",
    "print(X)"
   ]
  },
  {
   "cell_type": "code",
   "execution_count": 48,
   "id": "3b670722",
   "metadata": {},
   "outputs": [
    {
     "name": "stdout",
     "output_type": "stream",
     "text": [
      "[2 6]\n",
      "[3 4 5]\n",
      "[1 7 8]\n",
      "[1 2 3 4 5 6 7 8]\n"
     ]
    }
   ],
   "source": [
    "A = np.array([2,3,4,5,6])\n",
    "B = np.array([1,2,6,7,8])\n",
    "print(np.intersect1d(A,B))#common element in both the array\n",
    "print(np.setdiff1d(A,B))#element which is present in A but not in B\n",
    "print(np.setdiff1d(B,A))#element which is present in B but not in A\n",
    "print(np.union1d(A,B))#combine the distinct element in A and B\n"
   ]
  },
  {
   "cell_type": "markdown",
   "id": "54e1bff7",
   "metadata": {},
   "source": [
    "## Arithmetic operation and broadcasting"
   ]
  },
  {
   "cell_type": "code",
   "execution_count": 49,
   "id": "56fde953",
   "metadata": {},
   "outputs": [],
   "source": [
    "x = np.array([1,2,4])\n",
    "y = np.array([6,7,8])"
   ]
  },
  {
   "cell_type": "code",
   "execution_count": 51,
   "id": "3b2bb640",
   "metadata": {},
   "outputs": [
    {
     "name": "stdout",
     "output_type": "stream",
     "text": [
      "[ 7  9 12]\n",
      "[ 7  9 12]\n"
     ]
    }
   ],
   "source": [
    "#addition\n",
    "print(x+y)\n",
    "print(np.add(x,y))#both are equivalent"
   ]
  },
  {
   "cell_type": "code",
   "execution_count": 52,
   "id": "b592e95b",
   "metadata": {},
   "outputs": [
    {
     "name": "stdout",
     "output_type": "stream",
     "text": [
      "[-5 -5 -4]\n",
      "[-5 -5 -4]\n"
     ]
    }
   ],
   "source": [
    "#subtraction\n",
    "print(x-y)\n",
    "print(np.subtract(x,y))#both are equivalent"
   ]
  },
  {
   "cell_type": "code",
   "execution_count": 53,
   "id": "4a883ca0",
   "metadata": {},
   "outputs": [
    {
     "name": "stdout",
     "output_type": "stream",
     "text": [
      "[ 6 14 32]\n",
      "[ 6 14 32]\n"
     ]
    }
   ],
   "source": [
    "#multiplication\n",
    "print(x*y)\n",
    "print(np.multiply(x,y))#both are equivalent"
   ]
  },
  {
   "cell_type": "code",
   "execution_count": 54,
   "id": "8b43ad5c",
   "metadata": {},
   "outputs": [
    {
     "name": "stdout",
     "output_type": "stream",
     "text": [
      "[0.16666667 0.28571429 0.5       ]\n",
      "[0.16666667 0.28571429 0.5       ]\n"
     ]
    }
   ],
   "source": [
    "#divide\n",
    "print(x/y)\n",
    "print(np.divide(x,y))#both are equivalent"
   ]
  },
  {
   "cell_type": "code",
   "execution_count": 57,
   "id": "e7f0ee1c",
   "metadata": {},
   "outputs": [
    {
     "name": "stdout",
     "output_type": "stream",
     "text": [
      "[1 2 4]\n",
      "[1 2 4]\n"
     ]
    }
   ],
   "source": [
    "#modulo - remainder\n",
    "print(x%y)\n",
    "print(np.remainder(x,y))#both are equivalent"
   ]
  },
  {
   "cell_type": "code",
   "execution_count": 58,
   "id": "1af277f8",
   "metadata": {},
   "outputs": [
    {
     "name": "stdout",
     "output_type": "stream",
     "text": [
      "[[1 2 3]\n",
      " [4 5 6]\n",
      " [7 8 9]]\n",
      "[[11 12 13]\n",
      " [14 15 16]\n",
      " [17 18 19]]\n"
     ]
    }
   ],
   "source": [
    "a = np.arange(1,10).reshape(3,3)\n",
    "b = np.arange(11,20).reshape(3,3)\n",
    "print(a)\n",
    "print(b)"
   ]
  },
  {
   "cell_type": "code",
   "execution_count": 59,
   "id": "349fad1b",
   "metadata": {},
   "outputs": [
    {
     "data": {
      "text/plain": [
       "array([[12, 14, 16],\n",
       "       [18, 20, 22],\n",
       "       [24, 26, 28]])"
      ]
     },
     "execution_count": 59,
     "metadata": {},
     "output_type": "execute_result"
    }
   ],
   "source": [
    "a+b"
   ]
  },
  {
   "cell_type": "code",
   "execution_count": 60,
   "id": "c0a1fe51",
   "metadata": {},
   "outputs": [
    {
     "data": {
      "text/plain": [
       "array([[-10, -10, -10],\n",
       "       [-10, -10, -10],\n",
       "       [-10, -10, -10]])"
      ]
     },
     "execution_count": 60,
     "metadata": {},
     "output_type": "execute_result"
    }
   ],
   "source": [
    "a-b"
   ]
  },
  {
   "cell_type": "code",
   "execution_count": 63,
   "id": "d694fe39",
   "metadata": {},
   "outputs": [
    {
     "name": "stdout",
     "output_type": "stream",
     "text": [
      "[[1 2 3]\n",
      " [4 5 6]\n",
      " [7 8 9]]\n",
      "[[0 0 1]\n",
      " [2 0 4]\n",
      " [3 2 1]]\n"
     ]
    }
   ],
   "source": [
    "print(a%b)\n",
    "print(b%a)"
   ]
  },
  {
   "cell_type": "code",
   "execution_count": 67,
   "id": "42076dc1",
   "metadata": {},
   "outputs": [
    {
     "name": "stdout",
     "output_type": "stream",
     "text": [
      "[1.         1.41421356 1.73205081 2.        ]\n",
      "[ 2.71828183  7.3890561  20.08553692 54.59815003]\n",
      "[ 1  4  9 16]\n"
     ]
    }
   ],
   "source": [
    "r = np.array([1,2,3,4])\n",
    "print(np.sqrt(r))\n",
    "print(np.exp(r))\n",
    "print(np.power(r,2))"
   ]
  },
  {
   "cell_type": "code",
   "execution_count": 68,
   "id": "c6ed53ac",
   "metadata": {},
   "outputs": [
    {
     "name": "stdout",
     "output_type": "stream",
     "text": [
      "\n",
      "X = \n",
      " [[1 2]\n",
      " [3 4]]\n",
      "\n",
      "Average of all elements in X: 2.5\n",
      "Average of all elements in the columns of X: [2. 3.]\n",
      "Average of all elements in the rows of X: [1.5 3.5]\n",
      "\n",
      "Sum of all elements in X: 10\n",
      "Sum of all elements in the columns of X: [4 6]\n",
      "Sum of all elements in the rows of X: [3 7]\n",
      "\n",
      "Standard Deviation of all elements in X: 1.118033988749895\n",
      "Standard Deviation of all elements in the columns of X: [1. 1.]\n",
      "Standard Deviation of all elements in the rows of X: [0.5 0.5]\n",
      "\n",
      "Median of all elements in X: 2.5\n",
      "Median of all elements in the columns of X: [2. 3.]\n",
      "Median of all elements in the rows of X: [1.5 3.5]\n",
      "\n",
      "Maximum value of all elements in X: 4\n",
      "Maximum value of all elements in the columns of X: [3 4]\n",
      "Maximum value of all elements in the rows of X: [2 4]\n",
      "\n",
      "Minimum value of all elements in X: 1\n",
      "Minimum value of all elements in the columns of X: [1 2]\n",
      "Minimum value of all elements in the rows of X: [1 3]\n"
     ]
    }
   ],
   "source": [
    "# We create a 2 x 2 ndarray\n",
    "X = np.array([[1,2], [3,4]])\n",
    "\n",
    "# We print x\n",
    "print()\n",
    "print('X = \\n', X)\n",
    "print()\n",
    "\n",
    "print('Average of all elements in X:', X.mean())\n",
    "print('Average of all elements in the columns of X:', X.mean(axis=0))\n",
    "print('Average of all elements in the rows of X:', X.mean(axis=1))\n",
    "print()\n",
    "print('Sum of all elements in X:', X.sum())\n",
    "print('Sum of all elements in the columns of X:', X.sum(axis=0))\n",
    "print('Sum of all elements in the rows of X:', X.sum(axis=1))\n",
    "print()\n",
    "print('Standard Deviation of all elements in X:', X.std())\n",
    "print('Standard Deviation of all elements in the columns of X:', X.std(axis=0))\n",
    "print('Standard Deviation of all elements in the rows of X:', X.std(axis=1))\n",
    "print()\n",
    "print('Median of all elements in X:', np.median(X))\n",
    "print('Median of all elements in the columns of X:', np.median(X,axis=0))\n",
    "print('Median of all elements in the rows of X:', np.median(X,axis=1))\n",
    "print()\n",
    "print('Maximum value of all elements in X:', X.max())\n",
    "print('Maximum value of all elements in the columns of X:', X.max(axis=0))\n",
    "print('Maximum value of all elements in the rows of X:', X.max(axis=1))\n",
    "print()\n",
    "print('Minimum value of all elements in X:', X.min())\n",
    "print('Minimum value of all elements in the columns of X:', X.min(axis=0))\n",
    "print('Minimum value of all elements in the rows of X:', X.min(axis=1))"
   ]
  },
  {
   "cell_type": "code",
   "execution_count": 69,
   "id": "bed0d99e",
   "metadata": {},
   "outputs": [],
   "source": [
    "x = np.arange(1,10).reshape(3,3)\n",
    "y = np.array([9,8,7])"
   ]
  },
  {
   "cell_type": "code",
   "execution_count": 70,
   "id": "8f08012e",
   "metadata": {},
   "outputs": [
    {
     "data": {
      "text/plain": [
       "array([[1, 2, 3],\n",
       "       [4, 5, 6],\n",
       "       [7, 8, 9]])"
      ]
     },
     "execution_count": 70,
     "metadata": {},
     "output_type": "execute_result"
    }
   ],
   "source": [
    "x"
   ]
  },
  {
   "cell_type": "code",
   "execution_count": 71,
   "id": "c4fab7e2",
   "metadata": {},
   "outputs": [
    {
     "data": {
      "text/plain": [
       "array([9, 8, 7])"
      ]
     },
     "execution_count": 71,
     "metadata": {},
     "output_type": "execute_result"
    }
   ],
   "source": [
    "y"
   ]
  },
  {
   "cell_type": "code",
   "execution_count": 72,
   "id": "e3c2946b",
   "metadata": {},
   "outputs": [
    {
     "data": {
      "text/plain": [
       "array([[10, 10, 10],\n",
       "       [13, 13, 13],\n",
       "       [16, 16, 16]])"
      ]
     },
     "execution_count": 72,
     "metadata": {},
     "output_type": "execute_result"
    }
   ],
   "source": [
    "x+y"
   ]
  },
  {
   "cell_type": "code",
   "execution_count": 74,
   "id": "3cdc523f",
   "metadata": {},
   "outputs": [
    {
     "data": {
      "text/plain": [
       "array([[8],\n",
       "       [7],\n",
       "       [6]])"
      ]
     },
     "execution_count": 74,
     "metadata": {},
     "output_type": "execute_result"
    }
   ],
   "source": [
    "z = np.array([8,7,6]).reshape(3,1)\n",
    "z"
   ]
  },
  {
   "cell_type": "code",
   "execution_count": 75,
   "id": "231fb3f4",
   "metadata": {},
   "outputs": [
    {
     "data": {
      "text/plain": [
       "array([[ 9, 10, 11],\n",
       "       [11, 12, 13],\n",
       "       [13, 14, 15]])"
      ]
     },
     "execution_count": 75,
     "metadata": {},
     "output_type": "execute_result"
    }
   ],
   "source": [
    "x+z"
   ]
  },
  {
   "cell_type": "code",
   "execution_count": 76,
   "id": "2fd77072",
   "metadata": {},
   "outputs": [
    {
     "name": "stdout",
     "output_type": "stream",
     "text": [
      "\n",
      "X = \n",
      " [[1 2]\n",
      " [3 4]]\n",
      "\n",
      "3 * X = \n",
      " [[ 3  6]\n",
      " [ 9 12]]\n",
      "\n",
      "3 + X = \n",
      " [[4 5]\n",
      " [6 7]]\n",
      "\n",
      "X - 3 = \n",
      " [[-2 -1]\n",
      " [ 0  1]]\n",
      "\n",
      "X / 3 = \n",
      " [[0.33333333 0.66666667]\n",
      " [1.         1.33333333]]\n"
     ]
    }
   ],
   "source": [
    "# We create a 2 x 2 ndarray\n",
    "X = np.array([[1,2], [3,4]])\n",
    "\n",
    "# We print x\n",
    "print()\n",
    "print('X = \\n', X)\n",
    "print()\n",
    "\n",
    "print('3 * X = \\n', 3 * X)\n",
    "print()\n",
    "print('3 + X = \\n', 3 + X)\n",
    "print()\n",
    "print('X - 3 = \\n', X - 3)\n",
    "print()\n",
    "print('X / 3 = \\n', X / 3)"
   ]
  },
  {
   "cell_type": "code",
   "execution_count": null,
   "id": "d1e5c338",
   "metadata": {},
   "outputs": [],
   "source": []
  }
 ],
 "metadata": {
  "kernelspec": {
   "display_name": "Python 3",
   "language": "python",
   "name": "python3"
  },
  "language_info": {
   "codemirror_mode": {
    "name": "ipython",
    "version": 3
   },
   "file_extension": ".py",
   "mimetype": "text/x-python",
   "name": "python",
   "nbconvert_exporter": "python",
   "pygments_lexer": "ipython3",
   "version": "3.8.8"
  }
 },
 "nbformat": 4,
 "nbformat_minor": 5
}
